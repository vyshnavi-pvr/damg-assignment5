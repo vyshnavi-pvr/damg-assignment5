{
 "cells": [
  {
   "cell_type": "markdown",
   "metadata": {},
   "source": [
    "## Data Engineering\n",
    "We begin where all ML use cases do: data engineering. In this section of the demo, we will utilize Snowpark's Python client-side Dataframe API to build an **ELT pipeline**.  We will extract the data from the source system (s3), load it into snowflake and add transformations to clean the data before analysis. \n",
    "\n",
    "\n"
   ]
  },
  {
   "cell_type": "code",
   "execution_count": 38,
   "metadata": {},
   "outputs": [],
   "source": [
    "import snowflake.snowpark as snp\n",
    "from snowflake.snowpark import functions as F\n",
    "from snowflake.snowpark import types as T\n",
    "\n",
    "import pandas as pd\n",
    "from datetime import datetime\n",
    "import requests\n",
    "from zipfile import ZipFile\n",
    "from io import BytesIO\n",
    "import os"
   ]
  },
  {
   "cell_type": "markdown",
   "metadata": {},
   "source": [
    "### 1. Load  credentials and connect to Snowflake\n"
   ]
  },
  {
   "cell_type": "markdown",
   "metadata": {},
   "source": [
    "We will utilize a simple json file to store our credentials. This should **never** be done in production and is for demo purposes only."
   ]
  },
  {
   "cell_type": "code",
   "execution_count": 40,
   "metadata": {},
   "outputs": [],
   "source": [
    "from include.snowpark_connection import snowpark_connect\n",
    "session, state_dict = snowpark_connect('./connection.json')"
   ]
  },
  {
   "cell_type": "markdown",
   "metadata": {},
   "source": [
    "### 2. Create a stage for loading data to Snowflake"
   ]
  },
  {
   "cell_type": "code",
   "execution_count": 41,
   "metadata": {},
   "outputs": [
    {
     "data": {
      "text/plain": [
       "'\"A5_WH\"'"
      ]
     },
     "execution_count": 41,
     "metadata": {},
     "output_type": "execute_result"
    }
   ],
   "source": [
    "session.get_current_warehouse()\n",
    "# session.get_current_schema()\n",
    "# session.get_current_database()\n",
    "# session.sql('select current_user').show()"
   ]
  },
  {
   "cell_type": "code",
   "execution_count": 42,
   "metadata": {},
   "outputs": [],
   "source": [
    "\n",
    "session.sql(\"CREATE or REPLACE file format jsonformat type = 'JSON' strip_outer_array = true\").collect()\n",
    "session.sql(\"CREATE or REPLACE file format csvformat skip_header = 1 type = 'CSV'\").collect()\n",
    "prestaged=True\n",
    "if prestaged:\n",
    "    sql_cmd_data_json = 'CREATE OR REPLACE STAGE json_data_stage\\\n",
    "                  file_format = jsonformat\\\n",
    "                  url = \"s3://sfquickstarts/Summit 2022 Keynote Demo/click_data/\"'\n",
    "        \n",
    "    sql_cmd_campaign_spend = 'CREATE OR REPLACE STAGE campaign_data_stage\\\n",
    "                  file_format = csvformat\\\n",
    "                  url = \"s3://sfquickstarts/Summit 2022 Keynote Demo/campaign_spend/\"'\n",
    "    \n",
    "    sql_cmd_monthly_revenue=\"CREATE or REPLACE stage monthly_revenue_data_stage\\\n",
    "          file_format = csvformat\\\n",
    "          url = 's3://sfquickstarts/Summit 2022 Keynote Demo/monthly_revenue/'\"\n",
    "    session.sql(sql_cmd_data_json).collect()\n",
    "    session.sql(sql_cmd_campaign_spend).collect()\n",
    "    session.sql(sql_cmd_monthly_revenue).collect()\n",
    "        \n",
    "else: \n",
    "    session.sql('CREATE STAGE IF NOT EXISTS json_data_stage').collect()\n",
    "    session.sql('CREATE STAGE IF NOT EXISTS campaign_data_stage').collect()\n",
    "    session.sql('CREATE STAGE IF NOT EXISTS sql_cmd_monthly_revenue').collect()"
   ]
  },
  {
   "cell_type": "code",
   "execution_count": 43,
   "metadata": {},
   "outputs": [
    {
     "data": {
      "text/plain": [
       "[Row(status='Stage area DASH_UDFS successfully created.')]"
      ]
     },
     "execution_count": 43,
     "metadata": {},
     "output_type": "execute_result"
    }
   ],
   "source": [
    "session.sql('CREATE OR REPLACE STAGE dash_sprocs').collect()\n",
    "session.sql('CREATE OR REPLACE STAGE dash_models').collect()\n",
    "session.sql('CREATE OR REPLACE STAGE dash_udfs').collect()"
   ]
  },
  {
   "cell_type": "code",
   "execution_count": 20,
   "metadata": {},
   "outputs": [],
   "source": [
    "session.use_warehouse(state_dict['warehouse'])"
   ]
  },
  {
   "cell_type": "code",
   "execution_count": 43,
   "metadata": {},
   "outputs": [],
   "source": [
    "# #Upper case fields are common to both schemas.\n",
    "# #Schema from 2013 to 2021\n",
    "# load_schema1 = T.StructType([T.StructField(\"tripduration\", T.StringType()),\n",
    "#                              T.StructField(\"STARTTIME\", T.StringType()), \n",
    "#                              T.StructField(\"STOPTIME\", T.StringType()), \n",
    "#                              T.StructField(\"START_STATION_ID\", T.StringType()),\n",
    "#                              T.StructField(\"START_STATION_NAME\", T.StringType()), \n",
    "#                              T.StructField(\"START_STATION_LATITUDE\", T.StringType()),\n",
    "#                              T.StructField(\"START_STATION_LONGITUDE\", T.StringType()),\n",
    "#                              T.StructField(\"END_STATION_ID\", T.StringType()),\n",
    "#                              T.StructField(\"END_STATION_NAME\", T.StringType()), \n",
    "#                              T.StructField(\"END_STATION_LATITUDE\", T.StringType()),\n",
    "#                              T.StructField(\"END_STATION_LONGITUDE\", T.StringType()),\n",
    "#                              T.StructField(\"bike_id\", T.StringType()),\n",
    "#                              T.StructField(\"USERTYPE\", T.StringType()), \n",
    "#                              T.StructField(\"birth_year\", T.StringType()),\n",
    "#                              T.StructField(\"gender\", T.StringType())])\n",
    "\n",
    "# #starting in February 2021 the schema changed\n",
    "# load_schema2 = T.StructType([T.StructField(\"ride_id\", T.StringType()), \n",
    "#                              T.StructField(\"rideable_type\", T.StringType()), \n",
    "#                              T.StructField(\"STARTTIME\", T.StringType()), \n",
    "#                              T.StructField(\"STOPTIME\", T.StringType()), \n",
    "#                              T.StructField(\"START_STATION_NAME\", T.StringType()), \n",
    "#                              T.StructField(\"START_STATION_ID\", T.StringType()),\n",
    "#                              T.StructField(\"END_STATION_NAME\", T.StringType()), \n",
    "#                              T.StructField(\"END_STATION_ID\", T.StringType()),\n",
    "#                              T.StructField(\"START_STATION_LATITUDE\", T.StringType()),\n",
    "#                              T.StructField(\"START_STATION_LONGITUDE\", T.StringType()),\n",
    "#                              T.StructField(\"END_STATION_LATITUDE\", T.StringType()),\n",
    "#                              T.StructField(\"END_STATION_LONGITUDE\", T.StringType()),\n",
    "#                              T.StructField(\"USERTYPE\", T.StringType())])\n",
    "\n",
    "# trips_table_schema = T.StructType([T.StructField(\"STARTTIME\", T.StringType()), \n",
    "#                              T.StructField(\"STOPTIME\", T.StringType()), \n",
    "#                              T.StructField(\"START_STATION_NAME\", T.StringType()), \n",
    "#                              T.StructField(\"START_STATION_ID\", T.StringType()),\n",
    "#                              T.StructField(\"END_STATION_NAME\", T.StringType()), \n",
    "#                              T.StructField(\"END_STATION_ID\", T.StringType()),\n",
    "#                              T.StructField(\"START_STATION_LATITUDE\", T.StringType()),\n",
    "#                              T.StructField(\"START_STATION_LONGITUDE\", T.StringType()),\n",
    "#                              T.StructField(\"END_STATION_LATITUDE\", T.StringType()),\n",
    "#                              T.StructField(\"END_STATION_LONGITUDE\", T.StringType()),\n",
    "#                              T.StructField(\"USERTYPE\", T.StringType())])"
   ]
  },
  {
   "cell_type": "markdown",
   "metadata": {},
   "source": [
    "Create empty tables."
   ]
  },
  {
   "cell_type": "code",
   "execution_count": 44,
   "metadata": {},
   "outputs": [
    {
     "data": {
      "text/plain": [
       "[Row(status='Table CLICK_DATA_JSON successfully created.')]"
      ]
     },
     "execution_count": 44,
     "metadata": {},
     "output_type": "execute_result"
    }
   ],
   "source": [
    "session.sql('CREATE or REPLACE TABLE CLICK_DATA_JSON (\\\n",
    "  click_data VARIANT)').collect()"
   ]
  },
  {
   "cell_type": "markdown",
   "metadata": {},
   "source": [
    "Load click data"
   ]
  },
  {
   "cell_type": "code",
   "execution_count": 45,
   "metadata": {},
   "outputs": [
    {
     "data": {
      "text/plain": [
       "[Row(file='s3://sfquickstarts/Summit 2022 Keynote Demo/click_data/data_11_3_0.json', status='LOADED', rows_parsed=90000, rows_loaded=90000, error_limit=1, errors_seen=0, first_error=None, first_error_line=None, first_error_character=None, first_error_column_name=None),\n",
       " Row(file='s3://sfquickstarts/Summit 2022 Keynote Demo/click_data/data_11_5_0.json', status='LOADED', rows_parsed=90000, rows_loaded=90000, error_limit=1, errors_seen=0, first_error=None, first_error_line=None, first_error_character=None, first_error_column_name=None),\n",
       " Row(file='s3://sfquickstarts/Summit 2022 Keynote Demo/click_data/data_13_7_0.json', status='LOADED', rows_parsed=80000, rows_loaded=80000, error_limit=1, errors_seen=0, first_error=None, first_error_line=None, first_error_character=None, first_error_column_name=None),\n",
       " Row(file='s3://sfquickstarts/Summit 2022 Keynote Demo/click_data/data_1_2_0.json', status='LOADED', rows_parsed=90000, rows_loaded=90000, error_limit=1, errors_seen=0, first_error=None, first_error_line=None, first_error_character=None, first_error_column_name=None),\n",
       " Row(file='s3://sfquickstarts/Summit 2022 Keynote Demo/click_data/data_3_1_0.json', status='LOADED', rows_parsed=70000, rows_loaded=70000, error_limit=1, errors_seen=0, first_error=None, first_error_line=None, first_error_character=None, first_error_column_name=None),\n",
       " Row(file='s3://sfquickstarts/Summit 2022 Keynote Demo/click_data/data_4_5_0.json', status='LOADED', rows_parsed=90000, rows_loaded=90000, error_limit=1, errors_seen=0, first_error=None, first_error_line=None, first_error_character=None, first_error_column_name=None),\n",
       " Row(file='s3://sfquickstarts/Summit 2022 Keynote Demo/click_data/data_7_3_0.json', status='LOADED', rows_parsed=80000, rows_loaded=80000, error_limit=1, errors_seen=0, first_error=None, first_error_line=None, first_error_character=None, first_error_column_name=None),\n",
       " Row(file='s3://sfquickstarts/Summit 2022 Keynote Demo/click_data/data_9_4_0.json', status='LOADED', rows_parsed=100000, rows_loaded=100000, error_limit=1, errors_seen=0, first_error=None, first_error_line=None, first_error_character=None, first_error_column_name=None),\n",
       " Row(file='s3://sfquickstarts/Summit 2022 Keynote Demo/click_data/data_0_0_0.json', status='LOADED', rows_parsed=110000, rows_loaded=110000, error_limit=1, errors_seen=0, first_error=None, first_error_line=None, first_error_character=None, first_error_column_name=None),\n",
       " Row(file='s3://sfquickstarts/Summit 2022 Keynote Demo/click_data/data_12_4_0.json', status='LOADED', rows_parsed=100000, rows_loaded=100000, error_limit=1, errors_seen=0, first_error=None, first_error_line=None, first_error_character=None, first_error_column_name=None),\n",
       " Row(file='s3://sfquickstarts/Summit 2022 Keynote Demo/click_data/data_14_7_0.json', status='LOADED', rows_parsed=70000, rows_loaded=70000, error_limit=1, errors_seen=0, first_error=None, first_error_line=None, first_error_character=None, first_error_column_name=None),\n",
       " Row(file='s3://sfquickstarts/Summit 2022 Keynote Demo/click_data/data_2_0_0.json', status='LOADED', rows_parsed=90000, rows_loaded=90000, error_limit=1, errors_seen=0, first_error=None, first_error_line=None, first_error_character=None, first_error_column_name=None),\n",
       " Row(file='s3://sfquickstarts/Summit 2022 Keynote Demo/click_data/data_3_7_0.json', status='LOADED', rows_parsed=70000, rows_loaded=70000, error_limit=1, errors_seen=0, first_error=None, first_error_line=None, first_error_character=None, first_error_column_name=None),\n",
       " Row(file='s3://sfquickstarts/Summit 2022 Keynote Demo/click_data/data_6_1_0.json', status='LOADED', rows_parsed=60000, rows_loaded=60000, error_limit=1, errors_seen=0, first_error=None, first_error_line=None, first_error_character=None, first_error_column_name=None),\n",
       " Row(file='s3://sfquickstarts/Summit 2022 Keynote Demo/click_data/data_8_0_0.json', status='LOADED', rows_parsed=100000, rows_loaded=100000, error_limit=1, errors_seen=0, first_error=None, first_error_line=None, first_error_character=None, first_error_column_name=None),\n",
       " Row(file='s3://sfquickstarts/Summit 2022 Keynote Demo/click_data/data_9_3_0.json', status='LOADED', rows_parsed=100000, rows_loaded=100000, error_limit=1, errors_seen=0, first_error=None, first_error_line=None, first_error_character=None, first_error_column_name=None),\n",
       " Row(file='s3://sfquickstarts/Summit 2022 Keynote Demo/click_data/data_10_2_0.json', status='LOADED', rows_parsed=120000, rows_loaded=120000, error_limit=1, errors_seen=0, first_error=None, first_error_line=None, first_error_character=None, first_error_column_name=None),\n",
       " Row(file='s3://sfquickstarts/Summit 2022 Keynote Demo/click_data/data_14_1_0.json', status='LOADED', rows_parsed=70000, rows_loaded=70000, error_limit=1, errors_seen=0, first_error=None, first_error_line=None, first_error_character=None, first_error_column_name=None),\n",
       " Row(file='s3://sfquickstarts/Summit 2022 Keynote Demo/click_data/data_15_7_0.json', status='LOADED', rows_parsed=120001, rows_loaded=120001, error_limit=1, errors_seen=0, first_error=None, first_error_line=None, first_error_character=None, first_error_column_name=None),\n",
       " Row(file='s3://sfquickstarts/Summit 2022 Keynote Demo/click_data/data_2_2_0.json', status='LOADED', rows_parsed=90001, rows_loaded=90001, error_limit=1, errors_seen=0, first_error=None, first_error_line=None, first_error_character=None, first_error_column_name=None),\n",
       " Row(file='s3://sfquickstarts/Summit 2022 Keynote Demo/click_data/data_3_0_0.json', status='LOADED', rows_parsed=60000, rows_loaded=60000, error_limit=1, errors_seen=0, first_error=None, first_error_line=None, first_error_character=None, first_error_column_name=None),\n",
       " Row(file='s3://sfquickstarts/Summit 2022 Keynote Demo/click_data/data_3_6_0.json', status='LOADED', rows_parsed=70000, rows_loaded=70000, error_limit=1, errors_seen=0, first_error=None, first_error_line=None, first_error_character=None, first_error_column_name=None),\n",
       " Row(file='s3://sfquickstarts/Summit 2022 Keynote Demo/click_data/data_0_5_0.json', status='LOADED', rows_parsed=110000, rows_loaded=110000, error_limit=1, errors_seen=0, first_error=None, first_error_line=None, first_error_character=None, first_error_column_name=None),\n",
       " Row(file='s3://sfquickstarts/Summit 2022 Keynote Demo/click_data/data_12_0_0.json', status='LOADED', rows_parsed=100000, rows_loaded=100000, error_limit=1, errors_seen=0, first_error=None, first_error_line=None, first_error_character=None, first_error_column_name=None),\n",
       " Row(file='s3://sfquickstarts/Summit 2022 Keynote Demo/click_data/data_14_4_0.json', status='LOADED', rows_parsed=60000, rows_loaded=60000, error_limit=1, errors_seen=0, first_error=None, first_error_line=None, first_error_character=None, first_error_column_name=None),\n",
       " Row(file='s3://sfquickstarts/Summit 2022 Keynote Demo/click_data/data_1_5_0.json', status='LOADED', rows_parsed=90000, rows_loaded=90000, error_limit=1, errors_seen=0, first_error=None, first_error_line=None, first_error_character=None, first_error_column_name=None),\n",
       " Row(file='s3://sfquickstarts/Summit 2022 Keynote Demo/click_data/data_3_3_0.json', status='LOADED', rows_parsed=60000, rows_loaded=60000, error_limit=1, errors_seen=0, first_error=None, first_error_line=None, first_error_character=None, first_error_column_name=None),\n",
       " Row(file='s3://sfquickstarts/Summit 2022 Keynote Demo/click_data/data_5_0_0.json', status='LOADED', rows_parsed=70000, rows_loaded=70000, error_limit=1, errors_seen=0, first_error=None, first_error_line=None, first_error_character=None, first_error_column_name=None),\n",
       " Row(file='s3://sfquickstarts/Summit 2022 Keynote Demo/click_data/data_6_7_0.json', status='LOADED', rows_parsed=60000, rows_loaded=60000, error_limit=1, errors_seen=0, first_error=None, first_error_line=None, first_error_character=None, first_error_column_name=None),\n",
       " Row(file='s3://sfquickstarts/Summit 2022 Keynote Demo/click_data/data_8_1_0.json', status='LOADED', rows_parsed=100000, rows_loaded=100000, error_limit=1, errors_seen=0, first_error=None, first_error_line=None, first_error_character=None, first_error_column_name=None),\n",
       " Row(file='s3://sfquickstarts/Summit 2022 Keynote Demo/click_data/data_9_1_0.json', status='LOADED', rows_parsed=100000, rows_loaded=100000, error_limit=1, errors_seen=0, first_error=None, first_error_line=None, first_error_character=None, first_error_column_name=None),\n",
       " Row(file='s3://sfquickstarts/Summit 2022 Keynote Demo/click_data/data_10_4_0.json', status='LOADED', rows_parsed=130000, rows_loaded=130000, error_limit=1, errors_seen=0, first_error=None, first_error_line=None, first_error_character=None, first_error_column_name=None),\n",
       " Row(file='s3://sfquickstarts/Summit 2022 Keynote Demo/click_data/data_13_5_0.json', status='LOADED', rows_parsed=80000, rows_loaded=80000, error_limit=1, errors_seen=0, first_error=None, first_error_line=None, first_error_character=None, first_error_column_name=None),\n",
       " Row(file='s3://sfquickstarts/Summit 2022 Keynote Demo/click_data/data_15_1_0.json', status='LOADED', rows_parsed=120000, rows_loaded=120000, error_limit=1, errors_seen=0, first_error=None, first_error_line=None, first_error_character=None, first_error_column_name=None),\n",
       " Row(file='s3://sfquickstarts/Summit 2022 Keynote Demo/click_data/data_2_7_0.json', status='LOADED', rows_parsed=90000, rows_loaded=90000, error_limit=1, errors_seen=0, first_error=None, first_error_line=None, first_error_character=None, first_error_column_name=None),\n",
       " Row(file='s3://sfquickstarts/Summit 2022 Keynote Demo/click_data/data_5_1_0.json', status='LOADED', rows_parsed=70000, rows_loaded=70000, error_limit=1, errors_seen=0, first_error=None, first_error_line=None, first_error_character=None, first_error_column_name=None),\n",
       " Row(file='s3://sfquickstarts/Summit 2022 Keynote Demo/click_data/data_6_6_0.json', status='LOADED', rows_parsed=60000, rows_loaded=60000, error_limit=1, errors_seen=0, first_error=None, first_error_line=None, first_error_character=None, first_error_column_name=None),\n",
       " Row(file='s3://sfquickstarts/Summit 2022 Keynote Demo/click_data/data_8_5_0.json', status='LOADED', rows_parsed=100000, rows_loaded=100000, error_limit=1, errors_seen=0, first_error=None, first_error_line=None, first_error_character=None, first_error_column_name=None),\n",
       " Row(file='s3://sfquickstarts/Summit 2022 Keynote Demo/click_data/data_9_0_0.json', status='LOADED', rows_parsed=100000, rows_loaded=100000, error_limit=1, errors_seen=0, first_error=None, first_error_line=None, first_error_character=None, first_error_column_name=None),\n",
       " Row(file='s3://sfquickstarts/Summit 2022 Keynote Demo/click_data/data_0_3_0.json', status='LOADED', rows_parsed=120000, rows_loaded=120000, error_limit=1, errors_seen=0, first_error=None, first_error_line=None, first_error_character=None, first_error_column_name=None),\n",
       " Row(file='s3://sfquickstarts/Summit 2022 Keynote Demo/click_data/data_15_2_0.json', status='LOADED', rows_parsed=120000, rows_loaded=120000, error_limit=1, errors_seen=0, first_error=None, first_error_line=None, first_error_character=None, first_error_column_name=None),\n",
       " Row(file='s3://sfquickstarts/Summit 2022 Keynote Demo/click_data/data_1_7_0.json', status='LOADED', rows_parsed=90000, rows_loaded=90000, error_limit=1, errors_seen=0, first_error=None, first_error_line=None, first_error_character=None, first_error_column_name=None),\n",
       " Row(file='s3://sfquickstarts/Summit 2022 Keynote Demo/click_data/data_2_3_0.json', status='LOADED', rows_parsed=90000, rows_loaded=90000, error_limit=1, errors_seen=0, first_error=None, first_error_line=None, first_error_character=None, first_error_column_name=None),\n",
       " Row(file='s3://sfquickstarts/Summit 2022 Keynote Demo/click_data/data_3_2_0.json', status='LOADED', rows_parsed=70000, rows_loaded=70000, error_limit=1, errors_seen=0, first_error=None, first_error_line=None, first_error_character=None, first_error_column_name=None),\n",
       " Row(file='s3://sfquickstarts/Summit 2022 Keynote Demo/click_data/data_4_1_0.json', status='LOADED', rows_parsed=90000, rows_loaded=90000, error_limit=1, errors_seen=0, first_error=None, first_error_line=None, first_error_character=None, first_error_column_name=None),\n",
       " Row(file='s3://sfquickstarts/Summit 2022 Keynote Demo/click_data/data_10_1_0.json', status='LOADED', rows_parsed=130000, rows_loaded=130000, error_limit=1, errors_seen=0, first_error=None, first_error_line=None, first_error_character=None, first_error_column_name=None),\n",
       " Row(file='s3://sfquickstarts/Summit 2022 Keynote Demo/click_data/data_10_7_0.json', status='LOADED', rows_parsed=120000, rows_loaded=120000, error_limit=1, errors_seen=0, first_error=None, first_error_line=None, first_error_character=None, first_error_column_name=None),\n",
       " Row(file='s3://sfquickstarts/Summit 2022 Keynote Demo/click_data/data_12_2_0.json', status='LOADED', rows_parsed=100000, rows_loaded=100000, error_limit=1, errors_seen=0, first_error=None, first_error_line=None, first_error_character=None, first_error_column_name=None),\n",
       " Row(file='s3://sfquickstarts/Summit 2022 Keynote Demo/click_data/data_13_4_0.json', status='LOADED', rows_parsed=90000, rows_loaded=90000, error_limit=1, errors_seen=0, first_error=None, first_error_line=None, first_error_character=None, first_error_column_name=None),\n",
       " Row(file='s3://sfquickstarts/Summit 2022 Keynote Demo/click_data/data_15_6_0.json', status='LOADED', rows_parsed=110000, rows_loaded=110000, error_limit=1, errors_seen=0, first_error=None, first_error_line=None, first_error_character=None, first_error_column_name=None),\n",
       " Row(file='s3://sfquickstarts/Summit 2022 Keynote Demo/click_data/data_4_3_0.json', status='LOADED', rows_parsed=90000, rows_loaded=90000, error_limit=1, errors_seen=0, first_error=None, first_error_line=None, first_error_character=None, first_error_column_name=None),\n",
       " Row(file='s3://sfquickstarts/Summit 2022 Keynote Demo/click_data/data_5_5_0.json', status='LOADED', rows_parsed=70000, rows_loaded=70000, error_limit=1, errors_seen=0, first_error=None, first_error_line=None, first_error_character=None, first_error_column_name=None),\n",
       " Row(file='s3://sfquickstarts/Summit 2022 Keynote Demo/click_data/data_7_0_0.json', status='LOADED', rows_parsed=70000, rows_loaded=70000, error_limit=1, errors_seen=0, first_error=None, first_error_line=None, first_error_character=None, first_error_column_name=None),\n",
       " Row(file='s3://sfquickstarts/Summit 2022 Keynote Demo/click_data/data_0_7_0.json', status='LOADED', rows_parsed=120000, rows_loaded=120000, error_limit=1, errors_seen=0, first_error=None, first_error_line=None, first_error_character=None, first_error_column_name=None),\n",
       " Row(file='s3://sfquickstarts/Summit 2022 Keynote Demo/click_data/data_10_5_0.json', status='LOADED', rows_parsed=130000, rows_loaded=130000, error_limit=1, errors_seen=0, first_error=None, first_error_line=None, first_error_character=None, first_error_column_name=None),\n",
       " Row(file='s3://sfquickstarts/Summit 2022 Keynote Demo/click_data/data_12_6_0.json', status='LOADED', rows_parsed=90000, rows_loaded=90000, error_limit=1, errors_seen=0, first_error=None, first_error_line=None, first_error_character=None, first_error_column_name=None),\n",
       " Row(file='s3://sfquickstarts/Summit 2022 Keynote Demo/click_data/data_13_3_0.json', status='LOADED', rows_parsed=90000, rows_loaded=90000, error_limit=1, errors_seen=0, first_error=None, first_error_line=None, first_error_character=None, first_error_column_name=None),\n",
       " Row(file='s3://sfquickstarts/Summit 2022 Keynote Demo/click_data/data_15_0_0.json', status='LOADED', rows_parsed=120000, rows_loaded=120000, error_limit=1, errors_seen=0, first_error=None, first_error_line=None, first_error_character=None, first_error_column_name=None),\n",
       " Row(file='s3://sfquickstarts/Summit 2022 Keynote Demo/click_data/data_4_4_0.json', status='LOADED', rows_parsed=90000, rows_loaded=90000, error_limit=1, errors_seen=0, first_error=None, first_error_line=None, first_error_character=None, first_error_column_name=None),\n",
       " Row(file='s3://sfquickstarts/Summit 2022 Keynote Demo/click_data/data_5_7_0.json', status='LOADED', rows_parsed=70000, rows_loaded=70000, error_limit=1, errors_seen=0, first_error=None, first_error_line=None, first_error_character=None, first_error_column_name=None),\n",
       " Row(file='s3://sfquickstarts/Summit 2022 Keynote Demo/click_data/data_7_1_0.json', status='LOADED', rows_parsed=80000, rows_loaded=80000, error_limit=1, errors_seen=0, first_error=None, first_error_line=None, first_error_character=None, first_error_column_name=None),\n",
       " Row(file='s3://sfquickstarts/Summit 2022 Keynote Demo/click_data/data_0_4_0.json', status='LOADED', rows_parsed=120000, rows_loaded=120000, error_limit=1, errors_seen=0, first_error=None, first_error_line=None, first_error_character=None, first_error_column_name=None),\n",
       " Row(file='s3://sfquickstarts/Summit 2022 Keynote Demo/click_data/data_11_4_0.json', status='LOADED', rows_parsed=100000, rows_loaded=100000, error_limit=1, errors_seen=0, first_error=None, first_error_line=None, first_error_character=None, first_error_column_name=None),\n",
       " Row(file='s3://sfquickstarts/Summit 2022 Keynote Demo/click_data/data_12_1_0.json', status='LOADED', rows_parsed=100000, rows_loaded=100000, error_limit=1, errors_seen=0, first_error=None, first_error_line=None, first_error_character=None, first_error_column_name=None),\n",
       " Row(file='s3://sfquickstarts/Summit 2022 Keynote Demo/click_data/data_13_1_0.json', status='LOADED', rows_parsed=80000, rows_loaded=80000, error_limit=1, errors_seen=0, first_error=None, first_error_line=None, first_error_character=None, first_error_column_name=None),\n",
       " Row(file='s3://sfquickstarts/Summit 2022 Keynote Demo/click_data/data_14_2_0.json', status='LOADED', rows_parsed=70000, rows_loaded=70000, error_limit=1, errors_seen=0, first_error=None, first_error_line=None, first_error_character=None, first_error_column_name=None),\n",
       " Row(file='s3://sfquickstarts/Summit 2022 Keynote Demo/click_data/data_1_3_0.json', status='LOADED', rows_parsed=100000, rows_loaded=100000, error_limit=1, errors_seen=0, first_error=None, first_error_line=None, first_error_character=None, first_error_column_name=None),\n",
       " Row(file='s3://sfquickstarts/Summit 2022 Keynote Demo/click_data/data_5_2_0.json', status='LOADED', rows_parsed=70000, rows_loaded=70000, error_limit=1, errors_seen=0, first_error=None, first_error_line=None, first_error_character=None, first_error_column_name=None),\n",
       " Row(file='s3://sfquickstarts/Summit 2022 Keynote Demo/click_data/data_6_2_0.json', status='LOADED', rows_parsed=60000, rows_loaded=60000, error_limit=1, errors_seen=0, first_error=None, first_error_line=None, first_error_character=None, first_error_column_name=None),\n",
       " Row(file='s3://sfquickstarts/Summit 2022 Keynote Demo/click_data/data_7_2_0.json', status='LOADED', rows_parsed=70000, rows_loaded=70000, error_limit=1, errors_seen=0, first_error=None, first_error_line=None, first_error_character=None, first_error_column_name=None),\n",
       " Row(file='s3://sfquickstarts/Summit 2022 Keynote Demo/click_data/data_10_3_0.json', status='LOADED', rows_parsed=130000, rows_loaded=130000, error_limit=1, errors_seen=0, first_error=None, first_error_line=None, first_error_character=None, first_error_column_name=None),\n",
       " Row(file='s3://sfquickstarts/Summit 2022 Keynote Demo/click_data/data_11_2_0.json', status='LOADED', rows_parsed=100000, rows_loaded=100000, error_limit=1, errors_seen=0, first_error=None, first_error_line=None, first_error_character=None, first_error_column_name=None),\n",
       " Row(file='s3://sfquickstarts/Summit 2022 Keynote Demo/click_data/data_11_6_0.json', status='LOADED', rows_parsed=100000, rows_loaded=100000, error_limit=1, errors_seen=0, first_error=None, first_error_line=None, first_error_character=None, first_error_column_name=None),\n",
       " Row(file='s3://sfquickstarts/Summit 2022 Keynote Demo/click_data/data_12_7_0.json', status='LOADED', rows_parsed=90000, rows_loaded=90000, error_limit=1, errors_seen=0, first_error=None, first_error_line=None, first_error_character=None, first_error_column_name=None),\n",
       " Row(file='s3://sfquickstarts/Summit 2022 Keynote Demo/click_data/data_14_6_0.json', status='LOADED', rows_parsed=60000, rows_loaded=60000, error_limit=1, errors_seen=0, first_error=None, first_error_line=None, first_error_character=None, first_error_column_name=None),\n",
       " Row(file='s3://sfquickstarts/Summit 2022 Keynote Demo/click_data/data_1_1_0.json', status='LOADED', rows_parsed=90000, rows_loaded=90000, error_limit=1, errors_seen=0, first_error=None, first_error_line=None, first_error_character=None, first_error_column_name=None),\n",
       " Row(file='s3://sfquickstarts/Summit 2022 Keynote Demo/click_data/data_4_7_0.json', status='LOADED', rows_parsed=90000, rows_loaded=90000, error_limit=1, errors_seen=0, first_error=None, first_error_line=None, first_error_character=None, first_error_column_name=None),\n",
       " Row(file='s3://sfquickstarts/Summit 2022 Keynote Demo/click_data/data_6_4_0.json', status='LOADED', rows_parsed=60000, rows_loaded=60000, error_limit=1, errors_seen=0, first_error=None, first_error_line=None, first_error_character=None, first_error_column_name=None),\n",
       " Row(file='s3://sfquickstarts/Summit 2022 Keynote Demo/click_data/data_7_5_0.json', status='LOADED', rows_parsed=70000, rows_loaded=70000, error_limit=1, errors_seen=0, first_error=None, first_error_line=None, first_error_character=None, first_error_column_name=None),\n",
       " Row(file='s3://sfquickstarts/Summit 2022 Keynote Demo/click_data/data_0_2_0.json', status='LOADED', rows_parsed=130000, rows_loaded=130000, error_limit=1, errors_seen=0, first_error=None, first_error_line=None, first_error_character=None, first_error_column_name=None),\n",
       " Row(file='s3://sfquickstarts/Summit 2022 Keynote Demo/click_data/data_1_0_0.json', status='LOADED', rows_parsed=90000, rows_loaded=90000, error_limit=1, errors_seen=0, first_error=None, first_error_line=None, first_error_character=None, first_error_column_name=None),\n",
       " Row(file='s3://sfquickstarts/Summit 2022 Keynote Demo/click_data/data_2_1_0.json', status='LOADED', rows_parsed=80000, rows_loaded=80000, error_limit=1, errors_seen=0, first_error=None, first_error_line=None, first_error_character=None, first_error_column_name=None),\n",
       " Row(file='s3://sfquickstarts/Summit 2022 Keynote Demo/click_data/data_2_4_0.json', status='LOADED', rows_parsed=90000, rows_loaded=90000, error_limit=1, errors_seen=0, first_error=None, first_error_line=None, first_error_character=None, first_error_column_name=None),\n",
       " Row(file='s3://sfquickstarts/Summit 2022 Keynote Demo/click_data/data_4_0_0.json', status='LOADED', rows_parsed=90000, rows_loaded=90000, error_limit=1, errors_seen=0, first_error=None, first_error_line=None, first_error_character=None, first_error_column_name=None),\n",
       " Row(file='s3://sfquickstarts/Summit 2022 Keynote Demo/click_data/data_4_6_0.json', status='LOADED', rows_parsed=100000, rows_loaded=100000, error_limit=1, errors_seen=0, first_error=None, first_error_line=None, first_error_character=None, first_error_column_name=None),\n",
       " Row(file='s3://sfquickstarts/Summit 2022 Keynote Demo/click_data/data_10_0_0.json', status='LOADED', rows_parsed=120000, rows_loaded=120000, error_limit=1, errors_seen=0, first_error=None, first_error_line=None, first_error_character=None, first_error_column_name=None),\n",
       " Row(file='s3://sfquickstarts/Summit 2022 Keynote Demo/click_data/data_13_0_0.json', status='LOADED', rows_parsed=90000, rows_loaded=90000, error_limit=1, errors_seen=0, first_error=None, first_error_line=None, first_error_character=None, first_error_column_name=None),\n",
       " Row(file='s3://sfquickstarts/Summit 2022 Keynote Demo/click_data/data_15_4_0.json', status='LOADED', rows_parsed=110000, rows_loaded=110000, error_limit=1, errors_seen=0, first_error=None, first_error_line=None, first_error_character=None, first_error_column_name=None),\n",
       " Row(file='s3://sfquickstarts/Summit 2022 Keynote Demo/click_data/data_2_5_0.json', status='LOADED', rows_parsed=90000, rows_loaded=90000, error_limit=1, errors_seen=0, first_error=None, first_error_line=None, first_error_character=None, first_error_column_name=None),\n",
       " Row(file='s3://sfquickstarts/Summit 2022 Keynote Demo/click_data/data_4_2_0.json', status='LOADED', rows_parsed=100000, rows_loaded=100000, error_limit=1, errors_seen=0, first_error=None, first_error_line=None, first_error_character=None, first_error_column_name=None),\n",
       " Row(file='s3://sfquickstarts/Summit 2022 Keynote Demo/click_data/data_6_3_0.json', status='LOADED', rows_parsed=70000, rows_loaded=70000, error_limit=1, errors_seen=0, first_error=None, first_error_line=None, first_error_character=None, first_error_column_name=None),\n",
       " Row(file='s3://sfquickstarts/Summit 2022 Keynote Demo/click_data/data_8_6_0.json', status='LOADED', rows_parsed=110000, rows_loaded=110000, error_limit=1, errors_seen=0, first_error=None, first_error_line=None, first_error_character=None, first_error_column_name=None),\n",
       " Row(file='s3://sfquickstarts/Summit 2022 Keynote Demo/click_data/data_8_7_0.json', status='LOADED', rows_parsed=110000, rows_loaded=110000, error_limit=1, errors_seen=0, first_error=None, first_error_line=None, first_error_character=None, first_error_column_name=None),\n",
       " Row(file='s3://sfquickstarts/Summit 2022 Keynote Demo/click_data/data_0_1_0.json', status='LOADED', rows_parsed=120000, rows_loaded=120000, error_limit=1, errors_seen=0, first_error=None, first_error_line=None, first_error_character=None, first_error_column_name=None),\n",
       " Row(file='s3://sfquickstarts/Summit 2022 Keynote Demo/click_data/data_10_6_0.json', status='LOADED', rows_parsed=120000, rows_loaded=120000, error_limit=1, errors_seen=0, first_error=None, first_error_line=None, first_error_character=None, first_error_column_name=None),\n",
       " Row(file='s3://sfquickstarts/Summit 2022 Keynote Demo/click_data/data_12_5_0.json', status='LOADED', rows_parsed=100000, rows_loaded=100000, error_limit=1, errors_seen=0, first_error=None, first_error_line=None, first_error_character=None, first_error_column_name=None),\n",
       " Row(file='s3://sfquickstarts/Summit 2022 Keynote Demo/click_data/data_13_2_0.json', status='LOADED', rows_parsed=80000, rows_loaded=80000, error_limit=1, errors_seen=0, first_error=None, first_error_line=None, first_error_character=None, first_error_column_name=None),\n",
       " Row(file='s3://sfquickstarts/Summit 2022 Keynote Demo/click_data/data_14_3_0.json', status='LOADED', rows_parsed=70000, rows_loaded=70000, error_limit=1, errors_seen=0, first_error=None, first_error_line=None, first_error_character=None, first_error_column_name=None),\n",
       " Row(file='s3://sfquickstarts/Summit 2022 Keynote Demo/click_data/data_1_4_0.json', status='LOADED', rows_parsed=100000, rows_loaded=100000, error_limit=1, errors_seen=0, first_error=None, first_error_line=None, first_error_character=None, first_error_column_name=None),\n",
       " Row(file='s3://sfquickstarts/Summit 2022 Keynote Demo/click_data/data_5_3_0.json', status='LOADED', rows_parsed=70000, rows_loaded=70000, error_limit=1, errors_seen=0, first_error=None, first_error_line=None, first_error_character=None, first_error_column_name=None),\n",
       " Row(file='s3://sfquickstarts/Summit 2022 Keynote Demo/click_data/data_6_5_0.json', status='LOADED', rows_parsed=70000, rows_loaded=70000, error_limit=1, errors_seen=0, first_error=None, first_error_line=None, first_error_character=None, first_error_column_name=None),\n",
       " Row(file='s3://sfquickstarts/Summit 2022 Keynote Demo/click_data/data_9_7_0.json', status='LOADED', rows_parsed=100000, rows_loaded=100000, error_limit=1, errors_seen=0, first_error=None, first_error_line=None, first_error_character=None, first_error_column_name=None),\n",
       " Row(file='s3://sfquickstarts/Summit 2022 Keynote Demo/click_data/data_0_6_0.json', status='LOADED', rows_parsed=130000, rows_loaded=130000, error_limit=1, errors_seen=0, first_error=None, first_error_line=None, first_error_character=None, first_error_column_name=None),\n",
       " Row(file='s3://sfquickstarts/Summit 2022 Keynote Demo/click_data/data_13_6_0.json', status='LOADED', rows_parsed=77153, rows_loaded=77153, error_limit=1, errors_seen=0, first_error=None, first_error_line=None, first_error_character=None, first_error_column_name=None),\n",
       " Row(file='s3://sfquickstarts/Summit 2022 Keynote Demo/click_data/data_15_3_0.json', status='LOADED', rows_parsed=120000, rows_loaded=120000, error_limit=1, errors_seen=0, first_error=None, first_error_line=None, first_error_character=None, first_error_column_name=None),\n",
       " Row(file='s3://sfquickstarts/Summit 2022 Keynote Demo/click_data/data_2_6_0.json', status='LOADED', rows_parsed=100000, rows_loaded=100000, error_limit=1, errors_seen=0, first_error=None, first_error_line=None, first_error_character=None, first_error_column_name=None),\n",
       " Row(file='s3://sfquickstarts/Summit 2022 Keynote Demo/click_data/data_5_4_0.json', status='LOADED', rows_parsed=70000, rows_loaded=70000, error_limit=1, errors_seen=0, first_error=None, first_error_line=None, first_error_character=None, first_error_column_name=None),\n",
       " Row(file='s3://sfquickstarts/Summit 2022 Keynote Demo/click_data/data_7_4_0.json', status='LOADED', rows_parsed=70000, rows_loaded=70000, error_limit=1, errors_seen=0, first_error=None, first_error_line=None, first_error_character=None, first_error_column_name=None),\n",
       " Row(file='s3://sfquickstarts/Summit 2022 Keynote Demo/click_data/data_9_5_0.json', status='LOADED', rows_parsed=100000, rows_loaded=100000, error_limit=1, errors_seen=0, first_error=None, first_error_line=None, first_error_character=None, first_error_column_name=None),\n",
       " Row(file='s3://sfquickstarts/Summit 2022 Keynote Demo/click_data/data_8_3_0.json', status='LOADED', rows_parsed=100000, rows_loaded=100000, error_limit=1, errors_seen=0, first_error=None, first_error_line=None, first_error_character=None, first_error_column_name=None),\n",
       " Row(file='s3://sfquickstarts/Summit 2022 Keynote Demo/click_data/data_11_1_0.json', status='LOADED', rows_parsed=100000, rows_loaded=100000, error_limit=1, errors_seen=0, first_error=None, first_error_line=None, first_error_character=None, first_error_column_name=None),\n",
       " Row(file='s3://sfquickstarts/Summit 2022 Keynote Demo/click_data/data_12_3_0.json', status='LOADED', rows_parsed=100000, rows_loaded=100000, error_limit=1, errors_seen=0, first_error=None, first_error_line=None, first_error_character=None, first_error_column_name=None),\n",
       " Row(file='s3://sfquickstarts/Summit 2022 Keynote Demo/click_data/data_14_5_0.json', status='LOADED', rows_parsed=70000, rows_loaded=70000, error_limit=1, errors_seen=0, first_error=None, first_error_line=None, first_error_character=None, first_error_column_name=None),\n",
       " Row(file='s3://sfquickstarts/Summit 2022 Keynote Demo/click_data/data_1_6_0.json', status='LOADED', rows_parsed=90000, rows_loaded=90000, error_limit=1, errors_seen=0, first_error=None, first_error_line=None, first_error_character=None, first_error_column_name=None),\n",
       " Row(file='s3://sfquickstarts/Summit 2022 Keynote Demo/click_data/data_3_4_0.json', status='LOADED', rows_parsed=70000, rows_loaded=70000, error_limit=1, errors_seen=0, first_error=None, first_error_line=None, first_error_character=None, first_error_column_name=None),\n",
       " Row(file='s3://sfquickstarts/Summit 2022 Keynote Demo/click_data/data_6_0_0.json', status='LOADED', rows_parsed=60000, rows_loaded=60000, error_limit=1, errors_seen=0, first_error=None, first_error_line=None, first_error_character=None, first_error_column_name=None),\n",
       " Row(file='s3://sfquickstarts/Summit 2022 Keynote Demo/click_data/data_7_6_0.json', status='LOADED', rows_parsed=70000, rows_loaded=70000, error_limit=1, errors_seen=0, first_error=None, first_error_line=None, first_error_character=None, first_error_column_name=None),\n",
       " Row(file='s3://sfquickstarts/Summit 2022 Keynote Demo/click_data/data_9_2_0.json', status='LOADED', rows_parsed=90000, rows_loaded=90000, error_limit=1, errors_seen=0, first_error=None, first_error_line=None, first_error_character=None, first_error_column_name=None),\n",
       " Row(file='s3://sfquickstarts/Summit 2022 Keynote Demo/click_data/data_8_4_0.json', status='LOADED', rows_parsed=110000, rows_loaded=110000, error_limit=1, errors_seen=0, first_error=None, first_error_line=None, first_error_character=None, first_error_column_name=None),\n",
       " Row(file='s3://sfquickstarts/Summit 2022 Keynote Demo/click_data/data_11_0_0.json', status='LOADED', rows_parsed=90000, rows_loaded=90000, error_limit=1, errors_seen=0, first_error=None, first_error_line=None, first_error_character=None, first_error_column_name=None),\n",
       " Row(file='s3://sfquickstarts/Summit 2022 Keynote Demo/click_data/data_11_7_0.json', status='LOADED', rows_parsed=100000, rows_loaded=100000, error_limit=1, errors_seen=0, first_error=None, first_error_line=None, first_error_character=None, first_error_column_name=None),\n",
       " Row(file='s3://sfquickstarts/Summit 2022 Keynote Demo/click_data/data_14_0_0.json', status='LOADED', rows_parsed=60000, rows_loaded=60000, error_limit=1, errors_seen=0, first_error=None, first_error_line=None, first_error_character=None, first_error_column_name=None),\n",
       " Row(file='s3://sfquickstarts/Summit 2022 Keynote Demo/click_data/data_15_5_0.json', status='LOADED', rows_parsed=120000, rows_loaded=120000, error_limit=1, errors_seen=0, first_error=None, first_error_line=None, first_error_character=None, first_error_column_name=None),\n",
       " Row(file='s3://sfquickstarts/Summit 2022 Keynote Demo/click_data/data_3_5_0.json', status='LOADED', rows_parsed=70000, rows_loaded=70000, error_limit=1, errors_seen=0, first_error=None, first_error_line=None, first_error_character=None, first_error_column_name=None),\n",
       " Row(file='s3://sfquickstarts/Summit 2022 Keynote Demo/click_data/data_5_6_0.json', status='LOADED', rows_parsed=70000, rows_loaded=70000, error_limit=1, errors_seen=0, first_error=None, first_error_line=None, first_error_character=None, first_error_column_name=None),\n",
       " Row(file='s3://sfquickstarts/Summit 2022 Keynote Demo/click_data/data_7_7_0.json', status='LOADED', rows_parsed=70000, rows_loaded=70000, error_limit=1, errors_seen=0, first_error=None, first_error_line=None, first_error_character=None, first_error_column_name=None),\n",
       " Row(file='s3://sfquickstarts/Summit 2022 Keynote Demo/click_data/data_9_6_0.json', status='LOADED', rows_parsed=100001, rows_loaded=100001, error_limit=1, errors_seen=0, first_error=None, first_error_line=None, first_error_character=None, first_error_column_name=None),\n",
       " Row(file='s3://sfquickstarts/Summit 2022 Keynote Demo/click_data/data_8_2_0.json', status='LOADED', rows_parsed=110000, rows_loaded=110000, error_limit=1, errors_seen=0, first_error=None, first_error_line=None, first_error_character=None, first_error_column_name=None)]"
      ]
     },
     "execution_count": 45,
     "metadata": {},
     "output_type": "execute_result"
    }
   ],
   "source": [
    "\n",
    "session.sql(\"COPY into CLICK_DATA_JSON\\\n",
    "  from @json_data_stage\\\n",
    "  on_error = 'skip_file'\").collect()"
   ]
  },
  {
   "cell_type": "code",
   "execution_count": 46,
   "metadata": {},
   "outputs": [
    {
     "data": {
      "text/plain": [
       "[Row(status='Table CLICK_DATA successfully created.')]"
      ]
     },
     "execution_count": 46,
     "metadata": {},
     "output_type": "execute_result"
    }
   ],
   "source": [
    "session.sql(\"CREATE or REPLACE TABLE CLICK_DATA (\\\n",
    "  AD_ID varchar(30),\\\n",
    "  CHANNEL varchar(30),\\\n",
    "  CLICK integer,\\\n",
    "  COST FLOAT,\\\n",
    "  IPADDRESS varchar(30),\\\n",
    "  MACADDRESS varchar(30),\\\n",
    "  TIMESTAMP integer  ) \\\n",
    "AS SELECT CLICK_DATA:ad_id,CLICK_DATA:channel,CLICK_DATA:click,CLICK_DATA:cost,CLICK_DATA:ipaddress,CLICK_DATA:macaddress,CLICK_DATA:timestamp from CLICK_DATA_JSON\").collect()"
   ]
  },
  {
   "cell_type": "code",
   "execution_count": 47,
   "metadata": {},
   "outputs": [
    {
     "data": {
      "text/plain": [
       "[Row(status='Table CAMPAIGN_SPEND successfully created.')]"
      ]
     },
     "execution_count": 47,
     "metadata": {},
     "output_type": "execute_result"
    }
   ],
   "source": [
    "session.sql(\"CREATE or REPLACE TABLE CAMPAIGN_SPEND (\\\n",
    "  CAMPAIGN VARCHAR(60), \\\n",
    "  CHANNEL VARCHAR(60),\\\n",
    "  DATE DATE,  TOTAL_CLICKS NUMBER(38,0),\\\n",
    "  TOTAL_COST NUMBER(38,0),\\\n",
    "  ADS_SERVED NUMBER(38,0))\").collect()"
   ]
  },
  {
   "cell_type": "code",
   "execution_count": 48,
   "metadata": {},
   "outputs": [
    {
     "data": {
      "text/plain": [
       "[Row(status='Table MONTHLY_REVENUE successfully created.')]"
      ]
     },
     "execution_count": 48,
     "metadata": {},
     "output_type": "execute_result"
    }
   ],
   "source": [
    "session.sql(\"CREATE or REPLACE TABLE MONTHLY_REVENUE (\\\n",
    "  YEAR NUMBER(38,0),\\\n",
    "  MONTH NUMBER(38,0),\\\n",
    "  REVENUE FLOAT\\\n",
    ")\").collect()"
   ]
  },
  {
   "cell_type": "markdown",
   "metadata": {},
   "source": [
    "load amount spend on campaign data"
   ]
  },
  {
   "cell_type": "code",
   "execution_count": 49,
   "metadata": {},
   "outputs": [
    {
     "data": {
      "text/plain": [
       "[Row(file='s3://sfquickstarts/Summit 2022 Keynote Demo/campaign_spend/campaign_spend.csv', status='LOADED', rows_parsed=293120, rows_loaded=293120, error_limit=1, errors_seen=0, first_error=None, first_error_line=None, first_error_character=None, first_error_column_name=None)]"
      ]
     },
     "execution_count": 49,
     "metadata": {},
     "output_type": "execute_result"
    }
   ],
   "source": [
    "session.sql(\"COPY into CAMPAIGN_SPEND\\\n",
    "  from @campaign_data_stage\").collect()"
   ]
  },
  {
   "cell_type": "markdown",
   "metadata": {},
   "source": [
    "load monthly revenue data"
   ]
  },
  {
   "cell_type": "code",
   "execution_count": 50,
   "metadata": {},
   "outputs": [
    {
     "data": {
      "text/plain": [
       "[Row(file='s3://sfquickstarts/Summit 2022 Keynote Demo/monthly_revenue/monthly_revenue.csv', status='LOADED', rows_parsed=121, rows_loaded=121, error_limit=1, errors_seen=0, first_error=None, first_error_line=None, first_error_character=None, first_error_column_name=None)]"
      ]
     },
     "execution_count": 50,
     "metadata": {},
     "output_type": "execute_result"
    }
   ],
   "source": [
    "session.sql(\"COPY into MONTHLY_REVENUE\\\n",
    "  from @monthly_revenue_data_stage\").collect()"
   ]
  },
  {
   "cell_type": "code",
   "execution_count": 51,
   "metadata": {},
   "outputs": [
    {
     "data": {
      "text/plain": [
       "[Row(number of rows inserted=6)]"
      ]
     },
     "execution_count": 51,
     "metadata": {},
     "output_type": "execute_result"
    }
   ],
   "source": [
    "session.sql(\"CREATE or REPLACE TABLE BUDGET_ALLOCATIONS_AND_ROI (\\\n",
    "  MONTH varchar(30),\\\n",
    "  SEARCHENGINE integer,\\\n",
    "  SOCIALMEDIA integer,\\\n",
    "  VIDEO integer,\\\n",
    "  EMAIL integer,\\\n",
    "  ROI float\\\n",
    ")\").collect()\n",
    "\n",
    "\n",
    "session.sql(\"INSERT INTO BUDGET_ALLOCATIONS_AND_ROI (MONTH, SEARCHENGINE, SOCIALMEDIA, VIDEO, EMAIL, ROI)\\\n",
    "VALUES\\\n",
    "('January',35,50,35,85,8.22),\\\n",
    "('February',75,50,35,85,13.90),\\\n",
    "('March',15,50,35,15,7.34),\\\n",
    "('April',25,80,40,90,13.23),\\\n",
    "('May',95,95,10,95,6.246),\\\n",
    "('June',35,50,35,85,8.22)\").collect()"
   ]
  },
  {
   "cell_type": "code",
   "execution_count": 52,
   "metadata": {},
   "outputs": [],
   "source": [
    "session.close()"
   ]
  },
  {
   "cell_type": "code",
   "execution_count": null,
   "metadata": {},
   "outputs": [],
   "source": []
  }
 ],
 "metadata": {
  "authors": [
   {
    "name": "cforbe"
   }
  ],
  "kernelspec": {
   "display_name": "snowpark_0110:Python",
   "language": "python",
   "name": "conda-env-snowpark_0110-py"
  },
  "language_info": {
   "codemirror_mode": {
    "name": "ipython",
    "version": 3
   },
   "file_extension": ".py",
   "mimetype": "text/x-python",
   "name": "python",
   "nbconvert_exporter": "python",
   "pygments_lexer": "ipython3",
   "version": "3.8.13"
  },
  "msauthor": "trbye",
  "vscode": {
   "interpreter": {
    "hash": "2614690ea9fbd59ba0b6237432366eb3dd6a41bb6a55e6e289aa8513f88de2ca"
   }
  }
 },
 "nbformat": 4,
 "nbformat_minor": 4
}
