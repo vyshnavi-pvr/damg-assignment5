{
 "cells": [
  {
   "cell_type": "code",
   "execution_count": 1,
   "id": "21859dec-d47f-4d51-8082-13d485aedb2a",
   "metadata": {},
   "outputs": [],
   "source": [
    "import json\n",
    "import altair as alt\n",
    "import pandas as pd\n",
    "from snowflake.snowpark.session import Session\n",
    "from snowflake.snowpark.functions import col\n",
    "import streamlit as st"
   ]
  },
  {
   "cell_type": "code",
   "execution_count": 2,
   "id": "db78a6c5-8440-4ad3-aa11-a9f7902e9263",
   "metadata": {},
   "outputs": [],
   "source": [
    "def create_session():\n",
    "    if \"snowpark_session\" not in st.session_state:\n",
    "        session = Session.builder.configs(json.load(open(\"connection.json\"))).create()\n",
    "        st.session_state['snowpark_session'] = session\n",
    "    else:\n",
    "        session = st.session_state['snowpark_session']\n",
    "    return session"
   ]
  },
  {
   "cell_type": "code",
   "execution_count": 5,
   "id": "10e32cc8-1cd7-4527-a926-eb6f13d80e86",
   "metadata": {},
   "outputs": [],
   "source": [
    "\n",
    "# APP_ICON_URL = \"https://i.imgur.com/dBDOHH3.png\""
   ]
  },
  {
   "cell_type": "code",
   "execution_count": 3,
   "id": "41ac86f8-290a-4411-8119-6da5e3bb0321",
   "metadata": {},
   "outputs": [
    {
     "name": "stderr",
     "output_type": "stream",
     "text": [
      "2022-12-01 21:12:41.622 \n",
      "  \u001b[33m\u001b[1mWarning:\u001b[0m to view this Streamlit app on a browser, run it with the following\n",
      "  command:\n",
      "\n",
      "    streamlit run /home/studio-lab-user/.conda/envs/snowpark_0110/lib/python3.8/site-packages/ipykernel_launcher.py [ARGUMENTS]\n",
      "2022-12-01 21:12:41.628 Session state does not function when running a script without `streamlit run`\n",
      "2022-12-01 21:12:41.631 Snowflake Connector for Python Version: 2.8.3, Python Version: 3.8.13, Platform: Linux-4.14.294-220.533.amzn2.x86_64-x86_64-with-glibc2.17\n",
      "2022-12-01 21:12:41.634 This connection is in OCSP Fail Open Mode. TLS Certificates would be checked for validity and revocation status. Any other Certificate Revocation related exceptions or OCSP Responder failures would be disregarded in favor of connectivity.\n",
      "2022-12-01 21:12:41.635 Setting use_openssl_only mode to False\n",
      "2022-12-01 21:12:42.587 Snowpark Session information: \n",
      "\"version\" : 0.11.0,\n",
      "\"python.version\" : 3.8.13,\n",
      "\"python.connector.version\" : 2.8.3,\n",
      "\"python.connector.session.id\" : 15051794493431814,\n",
      "\"os.name\" : Linux\n",
      "\n",
      "2022-12-01 21:12:42.589 query: [SELECT  *  FROM (BUDGET_ALLOCATIONS_AND_ROI)]\n",
      "2022-12-01 21:12:42.958 query execution done\n",
      "2022-12-01 21:12:42.960 Number of results in first chunk: 0\n",
      "2022-12-01 21:12:42.971 query: [SELECT  *  FROM ( SELECT  *  FROM ( SELECT NULL :: STRING AS \"MONTH\", NULL :: BI...]\n",
      "2022-12-01 21:12:43.038 query execution done\n",
      "2022-12-01 21:12:43.040 Number of results in first chunk: 0\n",
      "2022-12-01 21:12:43.047 query: [SELECT \"MONTH\", \"CHANNEL\", \"BUDGET\" FROM ( SELECT  *  FROM ( SELECT  *  FROM ( S...]\n",
      "2022-12-01 21:12:44.109 query execution done\n",
      "2022-12-01 21:12:44.114 Number of results in first chunk: 24\n",
      "2022-12-01 21:12:44.170 query: [SELECT \"MONTH\", \"ROI\" FROM ( SELECT NULL :: STRING AS \"MONTH\", NULL :: DOUBLE AS...]\n",
      "2022-12-01 21:12:44.318 query execution done\n",
      "2022-12-01 21:12:44.320 Number of results in first chunk: 0\n",
      "2022-12-01 21:12:44.322 query: [SELECT \"MONTH\", \"ROI\" FROM ( SELECT \"MONTH\", \"ROI\" FROM ( SELECT  *  FROM ( SELE...]\n",
      "2022-12-01 21:12:45.112 query execution done\n",
      "2022-12-01 21:12:45.113 Number of results in first chunk: 6\n",
      "2022-12-01 21:12:45.121 query: [SELECT  *  FROM ( SELECT  *  FROM ( SELECT  *  FROM ( SELECT  *  FROM (BUDGET_AL...]\n",
      "2022-12-01 21:12:45.737 query execution done\n",
      "2022-12-01 21:12:45.738 Number of results in first chunk: 4\n",
      "2022-12-01 21:12:45.746 query: [SELECT  *  FROM ( SELECT  *  FROM ( SELECT  *  FROM (BUDGET_ALLOCATIONS_AND_ROI)...]\n",
      "2022-12-01 21:12:46.864 query execution done\n",
      "2022-12-01 21:12:46.868 Number of results in first chunk: 24\n"
     ]
    },
    {
     "data": {
      "text/plain": [
       "DeltaGenerator(_root_container=0, _provided_cursor=None, _parent=None, _block_type=None, _form_data=None)"
      ]
     },
     "execution_count": 3,
     "metadata": {},
     "output_type": "execute_result"
    }
   ],
   "source": [
    "@st.experimental_memo(show_spinner=False)\n",
    "def load_data():\n",
    "    historical_data = session.table(\"BUDGET_ALLOCATIONS_AND_ROI\").unpivot(\"Budget\", \"Channel\", [\"SearchEngine\", \"SocialMedia\", \"Video\", \"Email\"]).filter(col(\"MONTH\") != \"July\")\n",
    "    df_last_six_months_allocations = historical_data.drop(\"ROI\").to_pandas()\n",
    "    df_last_six_months_roi = historical_data.drop([\"CHANNEL\", \"BUDGET\"]).distinct().to_pandas()\n",
    "    df_last_months_allocations = historical_data.filter(col(\"MONTH\") == \"June\").to_pandas()\n",
    "    return historical_data.to_pandas(), df_last_six_months_allocations, df_last_six_months_roi, df_last_months_allocations\n",
    "\n",
    "# st.set_page_config(\"SportsCo Ad Spend Optimizer\", APP_ICON_URL, \"centered\")\n",
    "st.write(\"<style>[data-testid='stMetricLabel'] {min-height: 0.5rem !important}</style>\", unsafe_allow_html=True)\n",
    "# st.image(APP_ICON_URL, width=80)\n",
    "st.title(\"SportsCo Ad Spend Optimizer\")\n",
    "session = create_session()\n",
    "historical_data, df_last_six_months_allocations, df_last_six_months_roi, df_last_months_allocations = load_data()\n",
    "\n",
    "st.header(\"Advertising budgets\")\n",
    "col1, _, col2 = st.columns([4, 1, 4])\n",
    "channels = [\"Search engine\", \"Social media\", \"Email\", \"Video\"]\n",
    "budgets = []\n",
    "for channel, default, col in zip(channels, df_last_months_allocations[\"BUDGET\"].values, [col1, col1, col2, col2]):\n",
    "    with col:\n",
    "        budget = st.slider(channel, 0, 100, int(default), 5)\n",
    "        budgets.append(budget)\n",
    "\n",
    "st.header(\"Predicted revenue\")"
   ]
  },
  {
   "cell_type": "code",
   "execution_count": 4,
   "id": "bdccd2c9-93af-4475-9794-26547f5ad3b7",
   "metadata": {},
   "outputs": [
    {
     "name": "stderr",
     "output_type": "stream",
     "text": [
      "2022-12-01 21:12:50.484 query: [SELECT predict_roi(array_construct(35000,50000,35000,85000)) as PREDICTED_ROI]\n",
      "2022-12-01 21:12:58.868 query execution done\n",
      "2022-12-01 21:12:58.869 Number of results in first chunk: 1\n"
     ]
    }
   ],
   "source": [
    "@st.experimental_memo(show_spinner=False)\n",
    "def predict(budgets):\n",
    "    df_predicted_roi = session.sql(f\"SELECT predict_roi(array_construct({budgets[0]*1000},{budgets[1]*1000},{budgets[2]*1000},{budgets[3]*1000})) as PREDICTED_ROI\").to_pandas()\n",
    "    predicted_roi, last_month_roi = df_predicted_roi[\"PREDICTED_ROI\"].values[0] / 100000, df_last_six_months_roi[\"ROI\"].iloc[-1]\n",
    "    change = round((predicted_roi - last_month_roi) / last_month_roi * 100, 1)\n",
    "    return predicted_roi, change\n",
    "\n",
    "predicted_roi, change = predict(budgets)\n",
    "st.metric(\"\", f\"$ {predicted_roi:.2f} million\", f\"{change:.1f} % vs last month\")\n",
    "months = [\"January\", \"February\", \"March\", \"April\", \"May\", \"June\", \"July\"]\n",
    "july = pd.DataFrame({\"MONTH\": [\"July\", \"July\", \"July\", \"July\"], \"CHANNEL\": [\"SEARCHENGINE\", \"SOCIALMEDIA\", \"VIDEO\", \"EMAIL\"], \"BUDGET\": budgets, \"ROI\": [predicted_roi] * 4})\n",
    "chart_data = historical_data.append(july).reset_index(drop=True)\n",
    "chart_data = chart_data.replace([\"SEARCHENGINE\", \"EMAIL\", \"SOCIALMEDIA\", \"VIDEO\"], [\"Search engine\", \"Email\", \"Social media\", \"Video\"])\n",
    "base = alt.Chart(chart_data).encode(alt.X(\"MONTH\", sort=months, title=None))\n",
    "bars = base.mark_bar().encode(\n",
    "    y=alt.Y(\"BUDGET\", title=\"Budget\", scale=alt.Scale(domain=[0, 400])),\n",
    "    color=alt.Color(\"CHANNEL\", legend=alt.Legend(orient=\"top\", title=\" \")),\n",
    "    opacity=alt.condition(alt.datum.MONTH == \"July\", alt.value(1), alt.value(0.3)),\n",
    ")\n",
    "lines = base.mark_line(size=3).encode(\n",
    "    y=alt.Y(\"ROI\", title=\"Revenue\", scale=alt.Scale(domain=[0, 25])),\n",
    "    color=alt.value(\"#808495\"),\n",
    "    tooltip=[\"ROI\"],\n",
    ")\n",
    "points = base.mark_point(strokeWidth=3).encode(\n",
    "    y=alt.Y(\"ROI\"),\n",
    "    stroke=alt.value(\"#808495\"),\n",
    "    fill=alt.value(\"white\"),\n",
    "    size=alt.condition(alt.datum.MONTH == \"July\", alt.value(300), alt.value(70)),\n",
    ")\n",
    "chart = alt.layer(bars, lines + points).resolve_scale(y=\"independent\")\n",
    "chart = chart.configure_view(strokeWidth=0).configure_axisY(domain=False).configure_axis(labelColor=\"#808495\", tickColor=\"#e6eaf1\", gridColor=\"#e6eaf1\", domainColor=\"#e6eaf1\", titleFontWeight=600, titlePadding=10, labelPadding=5, labelFontSize=14).configure_range(category=[\"#FFE08E\", \"#03C0F2\", \"#FFAAAB\", \"#995EFF\"])\n",
    "st.altair_chart(chart, use_container_width=True)\n",
    "\n",
    "submitted = st.button(\"❄️ Save to Snowflake\")\n",
    "if submitted:\n",
    "    with st.spinner(\"Making snowflakes...\"):\n",
    "        df = pd.DataFrame({\"MONTH\": [\"July\"], \"SEARCHENGINE\": [budgets[0]], \"SOCIALMEDIA\": [budgets[1]], \"VIDEO\": [budgets[2]], \"EMAIL\": [budgets[3]], \"ROI\": [predicted_roi]})\n",
    "        session.write_pandas(df, \"BUDGET_ALLOCATIONS_AND_ROI\")\n",
    "        # session.sql(\"INSERT INTO BUDGET_ALLOCATIONS_AND_ROI VALUES ('July'\" + \",\" + str(budgets[0]) + \",\" + str(budgets[1]) + \",\" + str(budgets[2]) + \",\" + str(budgets[3]) + \",\" + str(predicted_roi) + \")\").collect()\n",
    "        st.success(\"✅ Successfully wrote budgets & prediction to your Snowflake account!\")\n",
    "        st.snow()\n"
   ]
  },
  {
   "cell_type": "code",
   "execution_count": null,
   "id": "3418a40f-569b-424a-b0f7-f4122f8458f0",
   "metadata": {},
   "outputs": [],
   "source": [
    "studiolab_domain = 'qrosew9ktffgtnu'\n",
    "\n",
    "# launch\n",
    "if studiolab_domain:\n",
    "    studiolab_region = 'us-east-2'\n",
    "    url = f'https://{studiolab_domain}.studio.{studiolab_region}.sagemaker.aws/studiolab/default/jupyter/proxy/6006/'\n",
    "    \n",
    "else: \n",
    "    \n",
    "    url = f'http://127.0.0.1:6006'\n",
    "\n",
    "print(f'Wait a few seconds and then click the link below to open your Streamlit application \\n{url}\\n')\n",
    "\n",
    "!streamlit run --theme.base dark Snowpark_Streamlit_Revenue_Prediction.py --server.port 6006 \\\n",
    "                                                          --server.address 127.0.0.1 \\\n",
    "                                                          --server.headless true\n",
    "\n",
    "\n",
    "# https://qrosew9ktffgtnu.studio.us-east-2.sagemaker.aws/studiolab/default/jupyter/proxy/6006/"
   ]
  }
 ],
 "metadata": {
  "kernelspec": {
   "display_name": "snowpark_0110:Python",
   "language": "python",
   "name": "conda-env-snowpark_0110-py"
  },
  "language_info": {
   "codemirror_mode": {
    "name": "ipython",
    "version": 3
   },
   "file_extension": ".py",
   "mimetype": "text/x-python",
   "name": "python",
   "nbconvert_exporter": "python",
   "pygments_lexer": "ipython3",
   "version": "3.8.13"
  },
  "vscode": {
   "interpreter": {
    "hash": "2614690ea9fbd59ba0b6237432366eb3dd6a41bb6a55e6e289aa8513f88de2ca"
   }
  }
 },
 "nbformat": 4,
 "nbformat_minor": 5
}
