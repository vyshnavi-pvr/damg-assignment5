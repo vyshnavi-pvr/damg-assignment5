{
 "cells": [
  {
   "cell_type": "code",
   "execution_count": null,
   "metadata": {},
   "outputs": [],
   "source": [
    "import json\n",
    "import altair as alt\n",
    "import pandas as pd\n",
    "from snowflake.snowpark.session import Session\n",
    "from snowflake.snowpark.functions import col\n",
    "import streamlit as st"
   ]
  },
  {
   "cell_type": "code",
   "execution_count": null,
   "metadata": {},
   "outputs": [],
   "source": []
  },
  {
   "cell_type": "code",
   "execution_count": null,
   "metadata": {},
   "outputs": [],
   "source": [
    "studiolab_domain = 'qrosew9ktffgtnu'\n",
    "\n",
    "# launch\n",
    "if studiolab_domain:\n",
    "    studiolab_region = 'us-east-2'\n",
    "    url = f'https://{studiolab_domain}.studio.{studiolab_region}.sagemaker.aws/studiolab/default/jupyter/proxy/6006/'\n",
    "    \n",
    "else: \n",
    "    \n",
    "    url = f'http://127.0.0.1:6006'\n",
    "\n",
    "print(f'Wait a few seconds and then click the link below to open your Streamlit application \\n{url}\\n')\n",
    "\n",
    "!streamlit run --theme.base dark Snowpark_Streamlit_Revenue_Prediction.py --server.port 6006 \\\n",
    "                                                          --server.address 127.0.0.1 \\\n",
    "                                                          --server.headless true\n",
    "\n",
    "\n",
    "# https://qrosew9ktffgtnu.studio.us-east-2.sagemaker.aws/studiolab/default/jupyter/proxy/6006/"
   ]
  }
 ],
 "metadata": {
  "kernelspec": {
   "display_name": "Python 3.7.6 ('base')",
   "language": "python",
   "name": "python3"
  },
  "language_info": {
   "name": "python",
   "version": "3.7.6"
  },
  "orig_nbformat": 4,
  "vscode": {
   "interpreter": {
    "hash": "2614690ea9fbd59ba0b6237432366eb3dd6a41bb6a55e6e289aa8513f88de2ca"
   }
  }
 },
 "nbformat": 4,
 "nbformat_minor": 2
}
