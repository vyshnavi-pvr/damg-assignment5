{
 "cells": [
  {
   "cell_type": "code",
   "execution_count": 3,
   "metadata": {},
   "outputs": [],
   "source": [
    "import json\n",
    "import altair as alt\n",
    "import pandas as pd\n",
    "from snowflake.snowpark.session import Session\n",
    "from snowflake.snowpark.functions import col\n",
    "import streamlit as st"
   ]
  },
  {
   "cell_type": "code",
   "execution_count": null,
   "metadata": {},
   "outputs": [],
   "source": []
  },
  {
   "cell_type": "code",
   "execution_count": 4,
   "metadata": {},
   "outputs": [
    {
     "name": "stdout",
     "output_type": "stream",
     "text": [
      "Wait a few seconds and then click the link below to open your Streamlit application \n",
      "https://qrosew9ktffgtnu.studio.us-east-2.sagemaker.aws/studiolab/default/jupyter/proxy/6006/\n",
      "\n",
      "\u001b[0m\n",
      "\u001b[34m\u001b[1m  You can now view your Streamlit app in your browser.\u001b[0m\n",
      "\u001b[0m\n",
      "\u001b[34m  URL: \u001b[0m\u001b[1mhttp://127.0.0.1:6006\u001b[0m\n",
      "\u001b[0m\n",
      "2022-12-02 12:07:21.439 Snowflake Connector for Python Version: 2.8.3, Python Version: 3.8.13, Platform: Linux-4.14.294-220.533.amzn2.x86_64-x86_64-with-glibc2.17\n",
      "2022-12-02 12:07:21.440 This connection is in OCSP Fail Open Mode. TLS Certificates would be checked for validity and revocation status. Any other Certificate Revocation related exceptions or OCSP Responder failures would be disregarded in favor of connectivity.\n",
      "2022-12-02 12:07:21.440 Setting use_openssl_only mode to False\n",
      "2022-12-02 12:07:22.135 Snowpark Session information: \n",
      "\"version\" : 0.11.0,\n",
      "\"python.version\" : 3.8.13,\n",
      "\"python.connector.version\" : 2.8.3,\n",
      "\"python.connector.session.id\" : 15051794493444194,\n",
      "\"os.name\" : Linux\n",
      "\n",
      "2022-12-02 12:07:22.136 query: [SELECT  *  FROM (BUDGET_ALLOCATIONS_AND_ROI)]\n",
      "2022-12-02 12:07:22.192 query execution done\n",
      "2022-12-02 12:07:22.192 Number of results in first chunk: 0\n",
      "2022-12-02 12:07:22.194 query: [SELECT  *  FROM ( SELECT  *  FROM ( SELECT NULL :: STRING AS \"MONTH\", NULL :: BI...]\n",
      "2022-12-02 12:07:22.240 query execution done\n",
      "2022-12-02 12:07:22.241 Number of results in first chunk: 0\n",
      "2022-12-02 12:07:22.242 query: [SELECT \"MONTH\", \"CHANNEL\", \"BUDGET\" FROM ( SELECT  *  FROM ( SELECT  *  FROM ( S...]\n",
      "2022-12-02 12:07:22.334 query execution done\n",
      "2022-12-02 12:07:22.335 Number of results in first chunk: 24\n",
      "2022-12-02 12:07:22.342 query: [SELECT \"MONTH\", \"ROI\" FROM ( SELECT NULL :: STRING AS \"MONTH\", NULL :: DOUBLE AS...]\n",
      "2022-12-02 12:07:22.384 query execution done\n",
      "2022-12-02 12:07:22.385 Number of results in first chunk: 0\n",
      "2022-12-02 12:07:22.387 query: [SELECT \"MONTH\", \"ROI\" FROM ( SELECT \"MONTH\", \"ROI\" FROM ( SELECT  *  FROM ( SELE...]\n",
      "2022-12-02 12:07:22.662 query execution done\n",
      "2022-12-02 12:07:22.662 Number of results in first chunk: 6\n",
      "2022-12-02 12:07:22.667 query: [SELECT  *  FROM ( SELECT  *  FROM ( SELECT  *  FROM ( SELECT  *  FROM (BUDGET_AL...]\n",
      "2022-12-02 12:07:22.782 query execution done\n",
      "2022-12-02 12:07:22.782 Number of results in first chunk: 4\n",
      "2022-12-02 12:07:22.787 query: [SELECT  *  FROM ( SELECT  *  FROM ( SELECT  *  FROM (BUDGET_ALLOCATIONS_AND_ROI)...]\n",
      "2022-12-02 12:07:22.999 query execution done\n",
      "2022-12-02 12:07:22.999 Number of results in first chunk: 24\n",
      "2022-12-02 12:08:38.389 Snowflake Connector for Python Version: 2.8.3, Python Version: 3.8.13, Platform: Linux-4.14.294-220.533.amzn2.x86_64-x86_64-with-glibc2.17\n",
      "2022-12-02 12:08:38.389 This connection is in OCSP Fail Open Mode. TLS Certificates would be checked for validity and revocation status. Any other Certificate Revocation related exceptions or OCSP Responder failures would be disregarded in favor of connectivity.\n",
      "2022-12-02 12:08:38.859 Snowpark Session information: \n",
      "\"version\" : 0.11.0,\n",
      "\"python.version\" : 3.8.13,\n",
      "\"python.connector.version\" : 2.8.3,\n",
      "\"python.connector.session.id\" : 15051794493460506,\n",
      "\"os.name\" : Linux\n",
      "\n",
      "2022-12-02 12:08:38.870 query: [SELECT predict_roi(array_construct(35000,50000,35000,85000)) as PREDICTED_ROI]\n",
      "2022-12-02 12:08:46.940 query execution done\n",
      "2022-12-02 12:08:46.940 Number of results in first chunk: 1\n",
      "2022-12-02 12:10:09.933 Snowflake Connector for Python Version: 2.8.3, Python Version: 3.8.13, Platform: Linux-4.14.294-220.533.amzn2.x86_64-x86_64-with-glibc2.17\n",
      "2022-12-02 12:10:09.934 This connection is in OCSP Fail Open Mode. TLS Certificates would be checked for validity and revocation status. Any other Certificate Revocation related exceptions or OCSP Responder failures would be disregarded in favor of connectivity.\n",
      "2022-12-02 12:10:10.295 Snowpark Session information: \n",
      "\"version\" : 0.11.0,\n",
      "\"python.version\" : 3.8.13,\n",
      "\"python.connector.version\" : 2.8.3,\n",
      "\"python.connector.session.id\" : 15051794493452318,\n",
      "\"os.name\" : Linux\n",
      "\n",
      "2022-12-02 12:10:22.650 query: [SELECT predict_roi(array_construct(70000,50000,35000,85000)) as PREDICTED_ROI]\n",
      "2022-12-02 12:10:24.781 query execution done\n",
      "2022-12-02 12:10:24.781 Number of results in first chunk: 1\n",
      "2022-12-02 12:11:16.941 Snowflake Connector for Python Version: 2.8.3, Python Version: 3.8.13, Platform: Linux-4.14.294-220.533.amzn2.x86_64-x86_64-with-glibc2.17\n",
      "2022-12-02 12:11:16.941 This connection is in OCSP Fail Open Mode. TLS Certificates would be checked for validity and revocation status. Any other Certificate Revocation related exceptions or OCSP Responder failures would be disregarded in favor of connectivity.\n",
      "2022-12-02 12:11:17.344 Snowpark Session information: \n",
      "\"version\" : 0.11.0,\n",
      "\"python.version\" : 3.8.13,\n",
      "\"python.connector.version\" : 2.8.3,\n",
      "\"python.connector.session.id\" : 15051794493460510,\n",
      "\"os.name\" : Linux\n",
      "\n",
      "2022-12-02 12:11:20.428 query: [SELECT predict_roi(array_construct(35000,25000,35000,85000)) as PREDICTED_ROI]\n",
      "2022-12-02 12:11:22.683 query execution done\n",
      "2022-12-02 12:11:22.684 Number of results in first chunk: 1\n",
      "2022-12-02 12:11:24.995 query: [SELECT predict_roi(array_construct(75000,25000,35000,85000)) as PREDICTED_ROI]\n",
      "2022-12-02 12:11:27.302 query execution done\n",
      "2022-12-02 12:11:27.302 Number of results in first chunk: 1\n",
      "2022-12-02 12:11:37.234 query: [SELECT predict_roi(array_construct(75000,25000,70000,85000)) as PREDICTED_ROI]\n",
      "2022-12-02 12:11:39.658 query execution done\n",
      "2022-12-02 12:11:39.658 Number of results in first chunk: 1\n",
      "^C\n",
      "\u001b[34m  Stopping...\u001b[0m\n"
     ]
    }
   ],
   "source": [
    "studiolab_domain = 'qrosew9ktffgtnu'\n",
    "\n",
    "# launch\n",
    "if studiolab_domain:\n",
    "    studiolab_region = 'us-east-2'\n",
    "    url = f'https://{studiolab_domain}.studio.{studiolab_region}.sagemaker.aws/studiolab/default/jupyter/proxy/6006/'\n",
    "    \n",
    "else: \n",
    "    \n",
    "    url = f'http://127.0.0.1:6006'\n",
    "\n",
    "print(f'Wait a few seconds and then click the link below to open your Streamlit application \\n{url}\\n')\n",
    "\n",
    "!streamlit run --theme.base dark include/Snowpark_Streamlit_Revenue_Prediction.py --server.port 6006 \\\n",
    "                                                          --server.address 127.0.0.1 \\\n",
    "                                                          --server.headless true\n",
    "\n",
    "\n",
    "# https://qrosew9ktffgtnu.studio.us-east-2.sagemaker.aws/studiolab/default/jupyter/proxy/6006/"
   ]
  }
 ],
 "metadata": {
  "kernelspec": {
   "display_name": "snowpark_0110:Python",
   "language": "python",
   "name": "conda-env-snowpark_0110-py"
  },
  "language_info": {
   "codemirror_mode": {
    "name": "ipython",
    "version": 3
   },
   "file_extension": ".py",
   "mimetype": "text/x-python",
   "name": "python",
   "nbconvert_exporter": "python",
   "pygments_lexer": "ipython3",
   "version": "3.8.13"
  },
  "vscode": {
   "interpreter": {
    "hash": "2614690ea9fbd59ba0b6237432366eb3dd6a41bb6a55e6e289aa8513f88de2ca"
   }
  }
 },
 "nbformat": 4,
 "nbformat_minor": 4
}
